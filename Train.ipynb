{
  "nbformat": 4,
  "nbformat_minor": 0,
  "metadata": {
    "colab": {
      "name": "FaceMaskDetection.ipynb",
      "provenance": [],
      "collapsed_sections": []
    },
    "kernelspec": {
      "name": "python3",
      "display_name": "Python 3"
    },
    "language_info": {
      "name": "python"
    },
    "accelerator": "GPU"
  },
  "cells": [
    {
      "cell_type": "code",
      "execution_count": 1,
      "metadata": {
        "id": "ZCxX35t46_Ap"
      },
      "outputs": [],
      "source": [
        "import os\n",
        "import shutil \n",
        "import random"
      ]
    },
    {
      "cell_type": "code",
      "source": [
        "!git clone https://github.com/ultralytics/yolov3"
      ],
      "metadata": {
        "id": "T5x821Ug7SPB"
      },
      "execution_count": null,
      "outputs": []
    },
    {
      "cell_type": "code",
      "source": [
        "cd yolov3"
      ],
      "metadata": {
        "id": "u5oDNdAJ5ODa"
      },
      "execution_count": null,
      "outputs": []
    },
    {
      "cell_type": "code",
      "source": [
        "!pip install -r requirements.txt"
      ],
      "metadata": {
        "id": "HCnADxPa5Gye"
      },
      "execution_count": null,
      "outputs": []
    },
    {
      "cell_type": "markdown",
      "source": [
        "### Change the train and val paths in dataset.yaml to the train and val folder paths uploaded to the Google drive"
      ],
      "metadata": {
        "id": "eBRUPwph4w_d"
      }
    },
    {
      "cell_type": "markdown",
      "source": [
        "### Download the weights file yolov3.pt from https://github.com/ultralytics/yolov3/releases/download/v9.6.0/yolov3.pt"
      ],
      "metadata": {
        "id": "wubytThf5Yqq"
      }
    },
    {
      "cell_type": "code",
      "source": [
        "!wget https://github.com/ultralytics/yolov3/releases/download/v9.6.0/yolov3.pt"
      ],
      "metadata": {
        "id": "owvk_kvk6bDr"
      },
      "execution_count": null,
      "outputs": []
    },
    {
      "cell_type": "markdown",
      "source": [
        "Train yolov3 on face mask detection dataset"
      ],
      "metadata": {
        "id": "JKpcdMaa92Vf"
      }
    },
    {
      "cell_type": "code",
      "source": [
        "!python train.py --img 416 --batch 8 --epochs 50 --data \"/content/drive/MyDrive/Colab Notebooks/FaceMaskDetection/Dataset/dataset.yaml\" --weights yolov3.pt"
      ],
      "metadata": {
        "id": "OnNbJSY9_yxx"
      },
      "execution_count": null,
      "outputs": []
    },
    {
      "cell_type": "markdown",
      "source": [
        "Export your model's weights for future use"
      ],
      "metadata": {
        "id": "tBuHtG6h9-Xg"
      }
    },
    {
      "cell_type": "code",
      "source": [
        "from google.colab import files\n",
        "files.download('./runs/train/exp/weights/last.pt')"
      ],
      "metadata": {
        "id": "wmncD_FNY0qm"
      },
      "execution_count": null,
      "outputs": []
    },
    {
      "cell_type": "markdown",
      "source": [
        "Inferencing on the test dataset"
      ],
      "metadata": {
        "id": "rG03ko3r-A01"
      }
    },
    {
      "cell_type": "code",
      "source": [
        "!python detect.py --source \"/content/drive/MyDrive/Colab Notebooks/FaceMaskDetection/Dataset/test\" --weights runs/train/exp/weights/last.pt --img 416"
      ],
      "metadata": {
        "id": "0rNV9qktAy4M"
      },
      "execution_count": null,
      "outputs": []
    },
    {
      "cell_type": "code",
      "source": [
        "import glob\n",
        "from IPython.display import Image, display\n",
        "\n",
        "for imageName in glob.glob('runs/detect/exp2/*.jpg'): #assuming JPG\n",
        "    display(Image(filename=imageName))\n",
        "    print(\"\\n\")"
      ],
      "metadata": {
        "id": "0Bgrt5dcIpmA"
      },
      "execution_count": null,
      "outputs": []
    },
    {
      "cell_type": "code",
      "source": [
        ""
      ],
      "metadata": {
        "id": "aw-Q4MO9-ESR"
      },
      "execution_count": null,
      "outputs": []
    }
  ]
}